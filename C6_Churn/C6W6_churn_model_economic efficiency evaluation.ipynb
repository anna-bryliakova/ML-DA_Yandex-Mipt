{
 "cells": [
  {
   "cell_type": "code",
   "execution_count": 188,
   "metadata": {},
   "outputs": [],
   "source": [
    "import warnings\n",
    "warnings.filterwarnings('ignore')\n",
    "\n",
    "import pandas as pd\n",
    "import numpy as np\n",
    "\n",
    "from sklearn import metrics\n",
    "\n",
    "from matplotlib import pyplot as plt\n",
    "\n",
    "%matplotlib inline"
   ]
  },
  {
   "cell_type": "markdown",
   "metadata": {},
   "source": [
    "Возьмем предсказания полученной модели для валидационной (hold-out) выборки и вектор действительных значений метки класса для той же выборки:"
   ]
  },
  {
   "cell_type": "code",
   "execution_count": 202,
   "metadata": {},
   "outputs": [
    {
     "data": {
      "text/html": [
       "<div>\n",
       "<style scoped>\n",
       "    .dataframe tbody tr th:only-of-type {\n",
       "        vertical-align: middle;\n",
       "    }\n",
       "\n",
       "    .dataframe tbody tr th {\n",
       "        vertical-align: top;\n",
       "    }\n",
       "\n",
       "    .dataframe thead th {\n",
       "        text-align: right;\n",
       "    }\n",
       "</style>\n",
       "<table border=\"1\" class=\"dataframe\">\n",
       "  <thead>\n",
       "    <tr style=\"text-align: right;\">\n",
       "      <th></th>\n",
       "      <th>0</th>\n",
       "    </tr>\n",
       "  </thead>\n",
       "  <tbody>\n",
       "    <tr>\n",
       "      <th>0</th>\n",
       "      <td>0.039244</td>\n",
       "    </tr>\n",
       "    <tr>\n",
       "      <th>1</th>\n",
       "      <td>0.070594</td>\n",
       "    </tr>\n",
       "    <tr>\n",
       "      <th>2</th>\n",
       "      <td>0.024855</td>\n",
       "    </tr>\n",
       "    <tr>\n",
       "      <th>3</th>\n",
       "      <td>0.018099</td>\n",
       "    </tr>\n",
       "    <tr>\n",
       "      <th>4</th>\n",
       "      <td>0.026294</td>\n",
       "    </tr>\n",
       "  </tbody>\n",
       "</table>\n",
       "</div>"
      ],
      "text/plain": [
       "          0\n",
       "0  0.039244\n",
       "1  0.070594\n",
       "2  0.024855\n",
       "3  0.018099\n",
       "4  0.026294"
      ]
     },
     "execution_count": 202,
     "metadata": {},
     "output_type": "execute_result"
    }
   ],
   "source": [
    "model_predictions = pd.read_csv('model_predictions.csv', index_col = 0)\n",
    "y_hold_out = pd.read_csv('y_hold_out.csv',  index_col = 0)\n",
    "model_predictions.head()"
   ]
  },
  {
   "cell_type": "markdown",
   "metadata": {},
   "source": [
    "Для расчёта экономического эффекта нам потребуется знать, как меняется точность предсказания класса 'отток' при изменении порога (значения вероятности), при котором мы относим объект к этому классу.\n",
    "Определим список значений порога (threshold), посчитаем, какая доля объектов при этом пороге будет отнесена к классу 'отток' (churn_top) и какая будет точность предсказания этого класса (precision churn). Запишем в таблицу."
   ]
  },
  {
   "cell_type": "code",
   "execution_count": 203,
   "metadata": {},
   "outputs": [
    {
     "data": {
      "text/html": [
       "<div>\n",
       "<style scoped>\n",
       "    .dataframe tbody tr th:only-of-type {\n",
       "        vertical-align: middle;\n",
       "    }\n",
       "\n",
       "    .dataframe tbody tr th {\n",
       "        vertical-align: top;\n",
       "    }\n",
       "\n",
       "    .dataframe thead th {\n",
       "        text-align: right;\n",
       "    }\n",
       "</style>\n",
       "<table border=\"1\" class=\"dataframe\">\n",
       "  <thead>\n",
       "    <tr style=\"text-align: right;\">\n",
       "      <th></th>\n",
       "      <th>threshold</th>\n",
       "      <th>churn_top</th>\n",
       "      <th>precision churn</th>\n",
       "    </tr>\n",
       "  </thead>\n",
       "  <tbody>\n",
       "    <tr>\n",
       "      <th>0</th>\n",
       "      <td>0.01</td>\n",
       "      <td>0.965027</td>\n",
       "      <td>0.077010</td>\n",
       "    </tr>\n",
       "    <tr>\n",
       "      <th>1</th>\n",
       "      <td>0.05</td>\n",
       "      <td>0.540164</td>\n",
       "      <td>0.111280</td>\n",
       "    </tr>\n",
       "    <tr>\n",
       "      <th>2</th>\n",
       "      <td>0.10</td>\n",
       "      <td>0.228689</td>\n",
       "      <td>0.170848</td>\n",
       "    </tr>\n",
       "    <tr>\n",
       "      <th>3</th>\n",
       "      <td>0.15</td>\n",
       "      <td>0.105464</td>\n",
       "      <td>0.233161</td>\n",
       "    </tr>\n",
       "    <tr>\n",
       "      <th>4</th>\n",
       "      <td>0.20</td>\n",
       "      <td>0.056284</td>\n",
       "      <td>0.262136</td>\n",
       "    </tr>\n",
       "    <tr>\n",
       "      <th>5</th>\n",
       "      <td>0.25</td>\n",
       "      <td>0.029235</td>\n",
       "      <td>0.345794</td>\n",
       "    </tr>\n",
       "    <tr>\n",
       "      <th>6</th>\n",
       "      <td>0.30</td>\n",
       "      <td>0.016393</td>\n",
       "      <td>0.383333</td>\n",
       "    </tr>\n",
       "    <tr>\n",
       "      <th>7</th>\n",
       "      <td>0.50</td>\n",
       "      <td>0.001366</td>\n",
       "      <td>0.800000</td>\n",
       "    </tr>\n",
       "    <tr>\n",
       "      <th>8</th>\n",
       "      <td>0.75</td>\n",
       "      <td>0.000000</td>\n",
       "      <td>0.000000</td>\n",
       "    </tr>\n",
       "    <tr>\n",
       "      <th>9</th>\n",
       "      <td>1.00</td>\n",
       "      <td>0.000000</td>\n",
       "      <td>0.000000</td>\n",
       "    </tr>\n",
       "  </tbody>\n",
       "</table>\n",
       "</div>"
      ],
      "text/plain": [
       "   threshold  churn_top  precision churn\n",
       "0       0.01   0.965027         0.077010\n",
       "1       0.05   0.540164         0.111280\n",
       "2       0.10   0.228689         0.170848\n",
       "3       0.15   0.105464         0.233161\n",
       "4       0.20   0.056284         0.262136\n",
       "5       0.25   0.029235         0.345794\n",
       "6       0.30   0.016393         0.383333\n",
       "7       0.50   0.001366         0.800000\n",
       "8       0.75   0.000000         0.000000\n",
       "9       1.00   0.000000         0.000000"
      ]
     },
     "execution_count": 203,
     "metadata": {},
     "output_type": "execute_result"
    }
   ],
   "source": [
    "bin_model_predictions = []\n",
    "precision_list = []\n",
    "churn_top = []\n",
    "thr_list = [0.01, 0.05, 0.1, 0.15, 0.2, 0.25, 0.3, 0.5, 0.75,1]\n",
    "for thr in thr_list:\n",
    "    bin_model_predictions[:] = []\n",
    "    bin_model_predictions = [ 1 if x > thr else -1 for x in list(model_predictions.values)]\n",
    "    churn_top.append( bin_model_predictions.count(1)/float(len(bin_model_predictions)) )\n",
    "    precision_list.append( metrics.precision_score( y_hold_out.values, bin_model_predictions) )\n",
    "data = pd.DataFrame( zip(thr_list, churn_top, precision_list), columns = ['threshold', 'churn_top', 'precision churn'] )\n",
    "data\n",
    "    "
   ]
  },
  {
   "cell_type": "markdown",
   "metadata": {},
   "source": [
    "1. Итак, пусть у нас есть абонентская база в 10 миллионов человек (N), средний чек (ARPU) - 400 рублей. \n",
    "\n",
    "Людям, которых мы занесли в класс отток, мы предлагаем в начале месяца заплатить бонус - 10 % от среднего чека (retention_cost_coef). \n",
    "\n",
    "Допустим, вероятность удержания (человек принял бонус и не ушел), составляет 50 % (retention_proba).\n",
    "\n",
    "Итак, выделим примерно 10 % абонентов, согласно ранжированию нашей модели, участвующих в кампании (churn_top). Точность прогноза при этом составит примерно 23 % (precision_churn).\n",
    "\n",
    "Оценивать прибыль будем по прошествии месяца в миллионах рублей по формуле:\n",
    "\n",
    "PROFIT = \"доход\" - \"расходы\"\n",
    "\n"
   ]
  },
  {
   "cell_type": "code",
   "execution_count": 204,
   "metadata": {},
   "outputs": [],
   "source": [
    "N = 10 # млн. чел.\n",
    "ARPU = 400 # руб\n",
    "retention_cost_coef = 0.1\n",
    "retention_proba = 0.5\n",
    "top = 0.105464\n",
    "precision_churn =0.233161"
   ]
  },
  {
   "cell_type": "code",
   "execution_count": 205,
   "metadata": {},
   "outputs": [
    {
     "data": {
      "text/plain": [
       "6.995"
      ]
     },
     "execution_count": 205,
     "metadata": {},
     "output_type": "execute_result"
    }
   ],
   "source": [
    "PROFIT = N * top * ARPU * (precision_churn * retention_proba - retention_cost_coef) # млн. руб.\n",
    "round(PROFIT,3)"
   ]
  },
  {
   "cell_type": "markdown",
   "metadata": {},
   "source": [
    "Посчитаем еще коэффициет Return of investment (ROI): ((\"доход\" - \"расходы\")/\"расходы\" * 100 %). \n",
    "Путем несложных преобразований получаем формулу:"
   ]
  },
  {
   "cell_type": "code",
   "execution_count": 193,
   "metadata": {},
   "outputs": [
    {
     "data": {
      "text/plain": [
       "16.580499999999997"
      ]
     },
     "execution_count": 193,
     "metadata": {},
     "output_type": "execute_result"
    }
   ],
   "source": [
    "ROI = (((precision_churn * retention_proba)/ retention_cost_coef) -1 ) * 100\n",
    "ROI"
   ]
  },
  {
   "cell_type": "markdown",
   "metadata": {},
   "source": [
    "Для данных параметров прибыль составила 6.995 миллионов рублей. ROI - 16.6 процента. Эффективно!\n",
    "\n",
    "\n",
    "2. Ищем оптимальный размер топа - к полученной в начале ноутбука таблице добавим столбец, где рассчитана прибыль, в зависимости от топа и соответствующей ему точности, остальные параметры не меняем."
   ]
  },
  {
   "cell_type": "code",
   "execution_count": 206,
   "metadata": {},
   "outputs": [
    {
     "data": {
      "text/html": [
       "<div>\n",
       "<style scoped>\n",
       "    .dataframe tbody tr th:only-of-type {\n",
       "        vertical-align: middle;\n",
       "    }\n",
       "\n",
       "    .dataframe tbody tr th {\n",
       "        vertical-align: top;\n",
       "    }\n",
       "\n",
       "    .dataframe thead th {\n",
       "        text-align: right;\n",
       "    }\n",
       "</style>\n",
       "<table border=\"1\" class=\"dataframe\">\n",
       "  <thead>\n",
       "    <tr style=\"text-align: right;\">\n",
       "      <th></th>\n",
       "      <th>threshold</th>\n",
       "      <th>churn_top</th>\n",
       "      <th>precision churn</th>\n",
       "      <th>profit</th>\n",
       "    </tr>\n",
       "  </thead>\n",
       "  <tbody>\n",
       "    <tr>\n",
       "      <th>0</th>\n",
       "      <td>0.01</td>\n",
       "      <td>0.965027</td>\n",
       "      <td>0.077010</td>\n",
       "      <td>-237.377049</td>\n",
       "    </tr>\n",
       "    <tr>\n",
       "      <th>1</th>\n",
       "      <td>0.05</td>\n",
       "      <td>0.540164</td>\n",
       "      <td>0.111280</td>\n",
       "      <td>-95.846995</td>\n",
       "    </tr>\n",
       "    <tr>\n",
       "      <th>2</th>\n",
       "      <td>0.10</td>\n",
       "      <td>0.228689</td>\n",
       "      <td>0.170848</td>\n",
       "      <td>-13.333333</td>\n",
       "    </tr>\n",
       "    <tr>\n",
       "      <th>3</th>\n",
       "      <td>0.15</td>\n",
       "      <td>0.105464</td>\n",
       "      <td>0.233161</td>\n",
       "      <td>6.994536</td>\n",
       "    </tr>\n",
       "    <tr>\n",
       "      <th>4</th>\n",
       "      <td>0.20</td>\n",
       "      <td>0.056284</td>\n",
       "      <td>0.262136</td>\n",
       "      <td>6.994536</td>\n",
       "    </tr>\n",
       "    <tr>\n",
       "      <th>5</th>\n",
       "      <td>0.25</td>\n",
       "      <td>0.029235</td>\n",
       "      <td>0.345794</td>\n",
       "      <td>8.524590</td>\n",
       "    </tr>\n",
       "    <tr>\n",
       "      <th>6</th>\n",
       "      <td>0.30</td>\n",
       "      <td>0.016393</td>\n",
       "      <td>0.383333</td>\n",
       "      <td>6.010929</td>\n",
       "    </tr>\n",
       "    <tr>\n",
       "      <th>7</th>\n",
       "      <td>0.50</td>\n",
       "      <td>0.001366</td>\n",
       "      <td>0.800000</td>\n",
       "      <td>1.639344</td>\n",
       "    </tr>\n",
       "    <tr>\n",
       "      <th>8</th>\n",
       "      <td>0.75</td>\n",
       "      <td>0.000000</td>\n",
       "      <td>0.000000</td>\n",
       "      <td>-0.000000</td>\n",
       "    </tr>\n",
       "    <tr>\n",
       "      <th>9</th>\n",
       "      <td>1.00</td>\n",
       "      <td>0.000000</td>\n",
       "      <td>0.000000</td>\n",
       "      <td>-0.000000</td>\n",
       "    </tr>\n",
       "  </tbody>\n",
       "</table>\n",
       "</div>"
      ],
      "text/plain": [
       "   threshold  churn_top  precision churn      profit\n",
       "0       0.01   0.965027         0.077010 -237.377049\n",
       "1       0.05   0.540164         0.111280  -95.846995\n",
       "2       0.10   0.228689         0.170848  -13.333333\n",
       "3       0.15   0.105464         0.233161    6.994536\n",
       "4       0.20   0.056284         0.262136    6.994536\n",
       "5       0.25   0.029235         0.345794    8.524590\n",
       "6       0.30   0.016393         0.383333    6.010929\n",
       "7       0.50   0.001366         0.800000    1.639344\n",
       "8       0.75   0.000000         0.000000   -0.000000\n",
       "9       1.00   0.000000         0.000000   -0.000000"
      ]
     },
     "execution_count": 206,
     "metadata": {},
     "output_type": "execute_result"
    }
   ],
   "source": [
    "data ['profit'] =  N * data['churn_top'] * ARPU * (data['precision churn'] * retention_proba - retention_cost_coef)\n",
    "data "
   ]
  },
  {
   "cell_type": "markdown",
   "metadata": {},
   "source": [
    "Наибольшая прибыль (~ 8.5 млн. руб. за месяц) достижима при размере топа - 2.9 %. Когда мы привлекаем к кампании почти всех абонентов (вероятность оттока 1 %) - убытки максимальны (~ 237 млн. руб. за месяц); когда ограничиваемся размером топа 0.13 % - прибыль уменьшается до ~ 1.6 млн. руб. в месяц.\n",
    "\n",
    "3. На мой взгляд, модель и так достаточно сложная для дилетантской оценки, но, чтобы соблюсти формальности, будем вычитать из предполагаемой прибыли ещё и общую стоимость затрат на мероприятия по удержанию оттока, пусть эта стоимость составит 0.5 млн. руб. в месяц (параметр implementation_cost)\n",
    "Меняем вероятность удержания абонентов (retention_proba), задаем значения: [0.1, 0.25, 0.5, 0.75, 0.95]"
   ]
  },
  {
   "cell_type": "code",
   "execution_count": 195,
   "metadata": {},
   "outputs": [],
   "source": [
    "implementation_cost = 0.5"
   ]
  },
  {
   "cell_type": "code",
   "execution_count": 196,
   "metadata": {},
   "outputs": [
    {
     "data": {
      "text/html": [
       "<div>\n",
       "<style scoped>\n",
       "    .dataframe tbody tr th:only-of-type {\n",
       "        vertical-align: middle;\n",
       "    }\n",
       "\n",
       "    .dataframe tbody tr th {\n",
       "        vertical-align: top;\n",
       "    }\n",
       "\n",
       "    .dataframe thead th {\n",
       "        text-align: right;\n",
       "    }\n",
       "</style>\n",
       "<table border=\"1\" class=\"dataframe\">\n",
       "  <thead>\n",
       "    <tr style=\"text-align: right;\">\n",
       "      <th></th>\n",
       "      <th>retention_proba</th>\n",
       "      <th>opt_top</th>\n",
       "      <th>profit</th>\n",
       "    </tr>\n",
       "  </thead>\n",
       "  <tbody>\n",
       "    <tr>\n",
       "      <th>0</th>\n",
       "      <td>0.10</td>\n",
       "      <td>0.000000</td>\n",
       "      <td>-0.500000</td>\n",
       "    </tr>\n",
       "    <tr>\n",
       "      <th>1</th>\n",
       "      <td>0.25</td>\n",
       "      <td>0.001366</td>\n",
       "      <td>0.046448</td>\n",
       "    </tr>\n",
       "    <tr>\n",
       "      <th>2</th>\n",
       "      <td>0.50</td>\n",
       "      <td>0.029235</td>\n",
       "      <td>8.024590</td>\n",
       "    </tr>\n",
       "    <tr>\n",
       "      <th>3</th>\n",
       "      <td>0.75</td>\n",
       "      <td>0.105464</td>\n",
       "      <td>31.084699</td>\n",
       "    </tr>\n",
       "    <tr>\n",
       "      <th>4</th>\n",
       "      <td>0.95</td>\n",
       "      <td>0.228689</td>\n",
       "      <td>56.494536</td>\n",
       "    </tr>\n",
       "  </tbody>\n",
       "</table>\n",
       "</div>"
      ],
      "text/plain": [
       "   retention_proba   opt_top     profit\n",
       "0             0.10  0.000000  -0.500000\n",
       "1             0.25  0.001366   0.046448\n",
       "2             0.50  0.029235   8.024590\n",
       "3             0.75  0.105464  31.084699\n",
       "4             0.95  0.228689  56.494536"
      ]
     },
     "execution_count": 196,
     "metadata": {},
     "output_type": "execute_result"
    }
   ],
   "source": [
    "#вероятность удержания\n",
    "rp_list = [0.1, 0.25, 0.5, 0.75, 0.95]\n",
    "profit_rp = []\n",
    "opt_top_rp = []\n",
    "for rp in rp_list:\n",
    "    data ['profit_rp'] =  N * data['churn_top'] * ARPU * (data['precision churn'] * rp - retention_cost_coef) - implementation_cost\n",
    "    profit_rp.append (max(data.profit_rp))\n",
    "    zdd = data[data.profit_rp == max(data.profit_rp)] ['churn_top']\n",
    "    opt_top_rp.append( zdd.values [0] )\n",
    "pd.DataFrame( zip(rp_list, opt_top_rp, profit_rp), columns = ['retention_proba','opt_top','profit'])"
   ]
  },
  {
   "cell_type": "code",
   "execution_count": 197,
   "metadata": {},
   "outputs": [
    {
     "data": {
      "image/png": "[encoded data removed]",
      "text/plain": [
       "<Figure size 504x504 with 1 Axes>"
      ]
     },
     "metadata": {
      "needs_background": "light"
     },
     "output_type": "display_data"
    }
   ],
   "source": [
    "plt.figure(figsize=(7, 7))\n",
    "plt.plot(rp_list, opt_top_rp)\n",
    "plt.xlabel(u\"Вероятность удержания\")\n",
    "plt.ylabel(u\"Оптимальный размер топа\")\n",
    "plt.title(u'Зависимость оптимального размера топа\\n от вероятности удержания абонента')\n",
    "plt.show()"
   ]
  },
  {
   "cell_type": "markdown",
   "metadata": {},
   "source": [
    "Здесь мы не видим ничего удивительного: при малой вероятности удержания клиента - 0.1, нам вообще убыточно проводить кампанию. При высокой вероятности удержания (0.95) нам выгодно увеличить топ до 22.8 %.\n",
    "\n",
    "\n",
    "Изменим стоимость удержания - будем брать 0.1, 0.15, 0.2, 0.3, 0.5 долей от ARPU."
   ]
  },
  {
   "cell_type": "code",
   "execution_count": 198,
   "metadata": {},
   "outputs": [
    {
     "data": {
      "text/html": [
       "<div>\n",
       "<style scoped>\n",
       "    .dataframe tbody tr th:only-of-type {\n",
       "        vertical-align: middle;\n",
       "    }\n",
       "\n",
       "    .dataframe tbody tr th {\n",
       "        vertical-align: top;\n",
       "    }\n",
       "\n",
       "    .dataframe thead th {\n",
       "        text-align: right;\n",
       "    }\n",
       "</style>\n",
       "<table border=\"1\" class=\"dataframe\">\n",
       "  <thead>\n",
       "    <tr style=\"text-align: right;\">\n",
       "      <th></th>\n",
       "      <th>retention_cost_coef</th>\n",
       "      <th>opt_top</th>\n",
       "      <th>profit</th>\n",
       "    </tr>\n",
       "  </thead>\n",
       "  <tbody>\n",
       "    <tr>\n",
       "      <th>0</th>\n",
       "      <td>0.05</td>\n",
       "      <td>0.228689</td>\n",
       "      <td>31.904372</td>\n",
       "    </tr>\n",
       "    <tr>\n",
       "      <th>1</th>\n",
       "      <td>0.10</td>\n",
       "      <td>0.029235</td>\n",
       "      <td>8.024590</td>\n",
       "    </tr>\n",
       "    <tr>\n",
       "      <th>2</th>\n",
       "      <td>0.15</td>\n",
       "      <td>0.016393</td>\n",
       "      <td>2.232240</td>\n",
       "    </tr>\n",
       "    <tr>\n",
       "      <th>3</th>\n",
       "      <td>0.20</td>\n",
       "      <td>0.001366</td>\n",
       "      <td>0.592896</td>\n",
       "    </tr>\n",
       "    <tr>\n",
       "      <th>4</th>\n",
       "      <td>0.30</td>\n",
       "      <td>0.001366</td>\n",
       "      <td>0.046448</td>\n",
       "    </tr>\n",
       "    <tr>\n",
       "      <th>5</th>\n",
       "      <td>0.50</td>\n",
       "      <td>0.000000</td>\n",
       "      <td>-0.500000</td>\n",
       "    </tr>\n",
       "  </tbody>\n",
       "</table>\n",
       "</div>"
      ],
      "text/plain": [
       "   retention_cost_coef   opt_top     profit\n",
       "0                 0.05  0.228689  31.904372\n",
       "1                 0.10  0.029235   8.024590\n",
       "2                 0.15  0.016393   2.232240\n",
       "3                 0.20  0.001366   0.592896\n",
       "4                 0.30  0.001366   0.046448\n",
       "5                 0.50  0.000000  -0.500000"
      ]
     },
     "execution_count": 198,
     "metadata": {},
     "output_type": "execute_result"
    }
   ],
   "source": [
    "#стоимость удержания\n",
    "rcc_list = [0.05, 0.1, 0.15, 0.2, 0.3, 0.5]\n",
    "profit_rcc = []\n",
    "opt_top_rcc = []\n",
    "for rcc in rcc_list:\n",
    "    data ['profit_rcc'] =  N * data['churn_top'] * ARPU * (data['precision churn'] * retention_proba - rcc) - implementation_cost\n",
    "    profit_rcc.append (max(data.profit_rcc))\n",
    "    zdd = data[data.profit_rcc == max(data.profit_rcc)] ['churn_top']\n",
    "    opt_top_rcc.append( zdd.values [0] )\n",
    "pd.DataFrame( zip(rcc_list, opt_top_rcc, profit_rcc), columns = ['retention_cost_coef','opt_top','profit'])"
   ]
  },
  {
   "cell_type": "code",
   "execution_count": 175,
   "metadata": {},
   "outputs": [
    {
     "data": {
      "image/png": "[encoded data removed]",
      "text/plain": [
       "<Figure size 504x504 with 1 Axes>"
      ]
     },
     "metadata": {
      "needs_background": "light"
     },
     "output_type": "display_data"
    }
   ],
   "source": [
    "plt.figure(figsize=(7, 7))\n",
    "plt.plot(rcc_list, opt_top_rcc)\n",
    "plt.xlabel(u\"Стоимость удержания\")\n",
    "plt.ylabel(u\"Оптимальный размер топа\")\n",
    "plt.title(u'Зависимость оптимального размера топа\\n от стоимости удержания абонента')\n",
    "plt.show()"
   ]
  },
  {
   "cell_type": "markdown",
   "metadata": {},
   "source": [
    "Оптимальный размер топа падает с увеличением размера бонуса. При бонусе 40% прибыль станет незначительной, а при бонусе 50% кампания будет убыточной. Но нужно иметь ввиду, что чем меньше размер бонуса, тем меньше вероятность удержать клиента - в реальности зависимость будет более сложной.\n",
    "\n",
    "\n",
    "4. Выше мы уже увидели, что применение модели не всегда экономически оправданно. Приведем пример - повысим в параметрах расчёта из 1-го пункта стоимость удержания с 0.1 до 0.2 - получим убыток свыше 35 миллионов рублей:"
   ]
  },
  {
   "cell_type": "code",
   "execution_count": 199,
   "metadata": {},
   "outputs": [
    {
     "data": {
      "text/plain": [
       "-35.191"
      ]
     },
     "execution_count": 199,
     "metadata": {},
     "output_type": "execute_result"
    }
   ],
   "source": [
    "N = 10 # млн. чел.\n",
    "ARPU = 400 # руб\n",
    "retention_cost_coef = 0.2\n",
    "retention_proba = 0.5\n",
    "top = 0.105464\n",
    "precision_churn =0.233161\n",
    "\n",
    "PROFIT = N * top * ARPU * (precision_churn * retention_proba - retention_cost_coef) # млн. руб.\n",
    "round(PROFIT,3)"
   ]
  },
  {
   "cell_type": "markdown",
   "metadata": {},
   "source": [
    "5. Возьмем экономическую модель (пункт 1) с оптимальным топом (пункт 2), дающую прибыль 8.525 млн. руб. Увеличим точность отнесения к классу 'отток' на 1 %, пофантазируем и заложим стоимость увеличения точности - 50 тыс. руб. Считаем прибыль."
   ]
  },
  {
   "cell_type": "code",
   "execution_count": 183,
   "metadata": {},
   "outputs": [
    {
     "data": {
      "text/plain": [
       "9.059"
      ]
     },
     "execution_count": 183,
     "metadata": {},
     "output_type": "execute_result"
    }
   ],
   "source": [
    "# precision +0.01\n",
    "cost_of_improvement = 0.05\n",
    "N = 10 # млн. чел.\n",
    "ARPU = 400 # руб\n",
    "retention_cost_coef = 0.1\n",
    "retention_proba = 0.5\n",
    "top = 0.029235\n",
    "precision_churn = 0.345794 + 0.01\n",
    "\n",
    "PROFIT = N * top * ARPU * (precision_churn * retention_proba - retention_cost_coef) - cost_of_improvement\n",
    "round(PROFIT,3)"
   ]
  },
  {
   "cell_type": "markdown",
   "metadata": {},
   "source": [
    "Увеличение прибыли на 0.5 млн. руб. при дополнительных вложениях 0.05 млн. руб. - да, экономически оправданно!\n",
    "\n",
    "Рассмотрим увеличение точности на 3%, повысим стоимость улучшений до 200 тыс. руб."
   ]
  },
  {
   "cell_type": "code",
   "execution_count": 184,
   "metadata": {},
   "outputs": [
    {
     "data": {
      "text/plain": [
       "10.079"
      ]
     },
     "execution_count": 184,
     "metadata": {},
     "output_type": "execute_result"
    }
   ],
   "source": [
    "# precision +0.03\n",
    "cost_of_improvement = 0.2\n",
    "N = 10 # млн. чел.\n",
    "ARPU = 400 # руб\n",
    "retention_cost_coef = 0.1\n",
    "retention_proba = 0.5\n",
    "top = 0.029235\n",
    "precision_churn = 0.345794 + 0.03\n",
    "\n",
    "PROFIT = N * top * ARPU * (precision_churn * retention_proba - retention_cost_coef) - cost_of_improvement\n",
    "round(PROFIT,3)"
   ]
  },
  {
   "cell_type": "markdown",
   "metadata": {},
   "source": [
    "Получаем увеличении прибыли свыше 1.5 млн.руб. при вложении 0.2 млн. руб. И это за месяц. "
   ]
  },
  {
   "cell_type": "markdown",
   "metadata": {},
   "source": [
    "6. Даже при увеличении точности всего на 0.5 % при стоимости улучшений 50 тыс. руб., наша экономическая модель показывает качественное улучшение - почти 3%:"
   ]
  },
  {
   "cell_type": "code",
   "execution_count": 185,
   "metadata": {},
   "outputs": [
    {
     "data": {
      "text/plain": [
       "8.767"
      ]
     },
     "execution_count": 185,
     "metadata": {},
     "output_type": "execute_result"
    }
   ],
   "source": [
    "# precision +0.005\n",
    "cost_of_improvement = 0.05\n",
    "N = 10 # млн. чел.\n",
    "ARPU = 400 # руб\n",
    "retention_cost_coef = 0.1\n",
    "retention_proba = 0.5\n",
    "top = 0.029235\n",
    "precision_churn = 0.345794 + 0.005\n",
    "\n",
    "PROFIT = N * top * ARPU * (precision_churn * retention_proba - retention_cost_coef) - cost_of_improvement\n",
    "round(PROFIT,3)"
   ]
  },
  {
   "cell_type": "code",
   "execution_count": 186,
   "metadata": {},
   "outputs": [
    {
     "data": {
      "text/plain": [
       "2.8387096774193443"
      ]
     },
     "execution_count": 186,
     "metadata": {},
     "output_type": "execute_result"
    }
   ],
   "source": [
    "(8.767-8.525)/8.525 *100"
   ]
  },
  {
   "cell_type": "markdown",
   "metadata": {},
   "source": [
    "Хоть приведенная экономическая модель далека от реальности, я считаю, что вложение средств в улучшение качества модели является экономически оправданным. Но улучшать качество можно до какого-то предела, после которого улучшения будут уже либо не оправданны, либо в принципе невозможны. Насколько мне известно от участников хакатонов - компании борются за увеличение качества на проценты и десятые доли процента. А вот сотые доли процента, за которые борются участники соревнований по машинному обучению, в продакшн уже не так важны."
   ]
  }
 ],
 "metadata": {
  "kernelspec": {
   "display_name": "Python 2",
   "language": "python",
   "name": "python2"
  },
  "language_info": {
   "codemirror_mode": {
    "name": "ipython",
    "version": 2
   },
   "file_extension": ".py",
   "mimetype": "text/x-python",
   "name": "python",
   "nbconvert_exporter": "python",
   "pygments_lexer": "ipython2",
   "version": "2.7.16"
  }
 },
 "nbformat": 4,
 "nbformat_minor": 2
}
